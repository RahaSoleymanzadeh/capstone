{
 "cells": [
  {
   "cell_type": "code",
   "execution_count": 1,
   "metadata": {},
   "outputs": [],
   "source": [
    "import pandas as pd\n",
    "import numpy as np \n",
    "import seaborn as sn\n",
    "import matplotlib.pyplot as plt\n",
    "%matplotlib inline\n",
    "\n",
    "#Importing our Sklearn Plugins\n",
    "from sklearn.model_selection import train_test_split\n",
    "from sklearn.compose import ColumnTransformer\n",
    "from sklearn import preprocessing\n",
    "from sklearn.utils import resample\n",
    "\n",
    "from sklearn.neighbors import KNeighborsClassifier\n",
    "from sklearn.tree import DecisionTreeClassifier\n",
    "from sklearn.pipeline import Pipeline\n",
    "from sklearn.preprocessing import StandardScaler\n",
    "from sklearn.metrics import f1_score\n",
    "from sklearn.impute import SimpleImputer\n",
    "from sklearn.ensemble import RandomForestClassifier\n",
    "from sklearn.metrics import classification_report\n",
    "from sklearn.linear_model import LogisticRegression\n",
    "from sklearn.metrics import classification_report, confusion_matrix, roc_curve,auc, accuracy_score\n",
    "\n",
    "\n",
    "import category_encoders as ce"
   ]
  },
  {
   "cell_type": "code",
   "execution_count": 2,
   "metadata": {},
   "outputs": [],
   "source": [
    "# import the CLean dataset\n",
    "\n",
    "df = pd.read_csv('CleanData2.csv')\n"
   ]
  },
  {
   "cell_type": "code",
   "execution_count": 3,
   "metadata": {},
   "outputs": [
    {
     "name": "stdout",
     "output_type": "stream",
     "text": [
      "<class 'pandas.core.frame.DataFrame'>\n",
      "RangeIndex: 17225 entries, 0 to 17224\n",
      "Data columns (total 13 columns):\n",
      "Unnamed: 0             17225 non-null int64\n",
      "title                  17225 non-null object\n",
      "description            17225 non-null object\n",
      "telecommuting          17225 non-null int64\n",
      "has_company_logo       17225 non-null int64\n",
      "has_questions          17225 non-null int64\n",
      "employment_type        17225 non-null object\n",
      "required_experience    17225 non-null object\n",
      "required_education     17225 non-null object\n",
      "industry               17225 non-null object\n",
      "function               17225 non-null object\n",
      "fraudulent             17225 non-null int64\n",
      "country_name           17225 non-null object\n",
      "dtypes: int64(5), object(8)\n",
      "memory usage: 1.7+ MB\n"
     ]
    }
   ],
   "source": [
    "df.info()"
   ]
  },
  {
   "cell_type": "code",
   "execution_count": 4,
   "metadata": {},
   "outputs": [],
   "source": [
    "df= df.drop(['Unnamed: 0'],axis=1)"
   ]
  },
  {
   "cell_type": "code",
   "execution_count": null,
   "metadata": {},
   "outputs": [],
   "source": []
  },
  {
   "cell_type": "code",
   "execution_count": 5,
   "metadata": {},
   "outputs": [
    {
     "data": {
      "text/html": [
       "<div>\n",
       "<style scoped>\n",
       "    .dataframe tbody tr th:only-of-type {\n",
       "        vertical-align: middle;\n",
       "    }\n",
       "\n",
       "    .dataframe tbody tr th {\n",
       "        vertical-align: top;\n",
       "    }\n",
       "\n",
       "    .dataframe thead th {\n",
       "        text-align: right;\n",
       "    }\n",
       "</style>\n",
       "<table border=\"1\" class=\"dataframe\">\n",
       "  <thead>\n",
       "    <tr style=\"text-align: right;\">\n",
       "      <th></th>\n",
       "      <th>fraudulent</th>\n",
       "      <th>title</th>\n",
       "    </tr>\n",
       "  </thead>\n",
       "  <tbody>\n",
       "    <tr>\n",
       "      <th>0</th>\n",
       "      <td>0</td>\n",
       "      <td>16391</td>\n",
       "    </tr>\n",
       "    <tr>\n",
       "      <th>1</th>\n",
       "      <td>1</td>\n",
       "      <td>834</td>\n",
       "    </tr>\n",
       "  </tbody>\n",
       "</table>\n",
       "</div>"
      ],
      "text/plain": [
       "   fraudulent  title\n",
       "0           0  16391\n",
       "1           1    834"
      ]
     },
     "execution_count": 5,
     "metadata": {},
     "output_type": "execute_result"
    },
    {
     "data": {
      "image/png": "[encoded data removed]",
      "text/plain": [
       "<Figure size 432x288 with 1 Axes>"
      ]
     },
     "metadata": {
      "needs_background": "light"
     },
     "output_type": "display_data"
    }
   ],
   "source": [
    "#Fraud and Real visualization\n",
    "sn.countplot(df.fraudulent).set_title('Real & Fradulent')\n",
    "df.groupby('fraudulent').count()['title'].reset_index().sort_values(by='title',ascending=False)"
   ]
  },
  {
   "cell_type": "code",
   "execution_count": 6,
   "metadata": {},
   "outputs": [],
   "source": [
    "#Add title to description column\n",
    "df['description'] = df['title']+' '+df['description'] \n",
    "# Drop the title column\n",
    "df.drop(['title'], axis = 1, inplace = True)"
   ]
  },
  {
   "cell_type": "code",
   "execution_count": null,
   "metadata": {},
   "outputs": [],
   "source": []
  },
  {
   "cell_type": "code",
   "execution_count": 7,
   "metadata": {},
   "outputs": [],
   "source": [
    "df2= df.copy()#make a copy"
   ]
  },
  {
   "cell_type": "code",
   "execution_count": 9,
   "metadata": {},
   "outputs": [],
   "source": [
    "import spacy \n",
    "import en_core_web_lg\n",
    "nlp = en_core_web_lg.load()\n",
    "from spacy.lang.en import English\n",
    "parser = English()\n",
    "import base64\n",
    "import string\n",
    "import re\n",
    "from nltk.corpus import stopwords\n",
    "stopwords = stopwords.words('english')\n",
    "from collections import Counter\n",
    "punctuation = string.punctuation\n",
    "\n",
    "# Cleaning function which is used for cleaning the text feater. \n",
    "def cleanup_text(docs, logging= False):\n",
    "    texts = []\n",
    "    for doc in docs:\n",
    "        doc = nlp (doc, disable=['parser', 'ner'])\n",
    "        tokens = [tok.lemma_.lower().strip()for tok in doc if tok.lemma_ != '-PRON-']\n",
    "        tokens = [tok for tok in tokens if tok not in stopwords and tok not in punctuation ]\n",
    "        tokens = ' '.join(tokens)\n",
    "        texts.append(tokens)\n",
    "    return pd.Series(texts)"
   ]
  },
  {
   "cell_type": "code",
   "execution_count": null,
   "metadata": {},
   "outputs": [],
   "source": []
  },
  {
   "cell_type": "code",
   "execution_count": 10,
   "metadata": {},
   "outputs": [],
   "source": [
    "# finding the most common words in description of fake job pots.\n",
    "\n",
    "Fraud = [text for text in df2[df2['fraudulent']== 1] ['description']]\n",
    "Fraud_clean = cleanup_text(Fraud)\n",
    "Fraud_clean = ' '.join(Fraud_clean).split()\n",
    "Fraud_counts = Counter(Fraud_clean)\n",
    "Fraud_common_words= [word[0] for word in Fraud_counts.most_common(20)]\n",
    "Fraud_common_counts = [word[1] for word in Fraud_counts.most_common(20)]"
   ]
  },
  {
   "cell_type": "code",
   "execution_count": 12,
   "metadata": {},
   "outputs": [
    {
     "data": {
      "image/png": "[encoded data removed]",
      "text/plain": [
       "<Figure size 1440x720 with 1 Axes>"
      ]
     },
     "metadata": {
      "needs_background": "light"
     },
     "output_type": "display_data"
    }
   ],
   "source": [
    "\n",
    "fig= plt.figure(figsize=(20,10))\n",
    "pal=sn.color_palette(\"muted\")\n",
    "sn.barplot(x= Fraud_common_words, y=Fraud_common_counts, palette= pal)\n",
    "plt.title('Top 20 common words used in fake job postings')\n",
    "plt.ylabel('Frequency of words')\n",
    "plt.xlabel('Words')\n",
    "plt.show()"
   ]
  },
  {
   "cell_type": "code",
   "execution_count": 13,
   "metadata": {},
   "outputs": [],
   "source": [
    "# finding the most common words in description of real job pots.\n",
    "\n",
    "Real = [text for text in df2[df2['fraudulent']== 0] ['description']]\n",
    "Real_clean = cleanup_text(Real)\n",
    "Real_clean = ' '.join(Real_clean).split()\n",
    "Real_counts = Counter(Real_clean)\n",
    "Real_common_words= [word[0] for word in Real_counts.most_common(20)]\n",
    "Real_common_counts = [word[1] for word in Real_counts.most_common(20)]"
   ]
  },
  {
   "cell_type": "code",
   "execution_count": 15,
   "metadata": {},
   "outputs": [
    {
     "data": {
      "image/png": "[encoded data removed]",
      "text/plain": [
       "<Figure size 1440x720 with 1 Axes>"
      ]
     },
     "metadata": {
      "needs_background": "light"
     },
     "output_type": "display_data"
    }
   ],
   "source": [
    "fig= plt.figure(figsize=(20,10))\n",
    "pal=sn.color_palette(\"muted\") \n",
    "sn.barplot(x= Real_common_words, y=Real_common_counts, palette= pal)\n",
    "plt.title('Top 20 common words used in real job postings')\n",
    "plt.ylabel('Frequency of words')\n",
    "plt.xlabel('Words')\n",
    "plt.show()"
   ]
  },
  {
   "cell_type": "code",
   "execution_count": 16,
   "metadata": {},
   "outputs": [],
   "source": [
    "# drop the description column\n",
    "df2.drop(['description'], axis = 1, inplace = True)\n"
   ]
  },
  {
   "cell_type": "code",
   "execution_count": 17,
   "metadata": {},
   "outputs": [],
   "source": [
    "df3=df2.copy()# make a copy "
   ]
  },
  {
   "cell_type": "code",
   "execution_count": 18,
   "metadata": {},
   "outputs": [],
   "source": [
    "df3.to_csv('Final_CleanData.csv')"
   ]
  },
  {
   "cell_type": "code",
   "execution_count": 19,
   "metadata": {},
   "outputs": [
    {
     "name": "stdout",
     "output_type": "stream",
     "text": [
      "(13780, 9)\n",
      "(13780,)\n",
      "(3445, 9)\n",
      "(3445,)\n"
     ]
    }
   ],
   "source": [
    "# Split df into train & test\n",
    "y = df3.fraudulent #target\n",
    "X = df3.drop(['fraudulent'], axis = 1)#features\n",
    "\n",
    "# used train_test_split \n",
    "X_train, X_test, y_train, y_test = train_test_split(X, y, train_size=0.80, test_size=0.20, random_state=222)\n",
    "print (X_train.shape)\n",
    "print (y_train.shape)\n",
    "print (X_test.shape)\n",
    "print (y_test.shape)"
   ]
  },
  {
   "cell_type": "code",
   "execution_count": null,
   "metadata": {},
   "outputs": [],
   "source": []
  },
  {
   "cell_type": "code",
   "execution_count": null,
   "metadata": {},
   "outputs": [],
   "source": []
  },
  {
   "cell_type": "code",
   "execution_count": 20,
   "metadata": {},
   "outputs": [],
   "source": [
    "# Join our training data back together\n",
    "X = pd.concat([X_train, y_train], axis=1)\n",
    "# separate fake and real classes\n",
    "real = X[X.fraudulent==0]\n",
    "fake = X[X.fraudulent==1]"
   ]
  },
  {
   "cell_type": "code",
   "execution_count": 21,
   "metadata": {},
   "outputs": [],
   "source": [
    "# downsample majority\n",
    "real_downsampled = resample(real,\n",
    "                                replace = False, # sample without replacement\n",
    "                                n_samples = len(fake), # same as fake posts\n",
    "                                random_state = 222) # reproducible results"
   ]
  },
  {
   "cell_type": "code",
   "execution_count": 22,
   "metadata": {},
   "outputs": [
    {
     "data": {
      "text/plain": [
       "1    667\n",
       "0    667\n",
       "Name: fraudulent, dtype: int64"
      ]
     },
     "execution_count": 22,
     "metadata": {},
     "output_type": "execute_result"
    }
   ],
   "source": [
    "# combine minority and downsampled majority\n",
    "downsampled = pd.concat([real_downsampled, fake])\n",
    "# number of real and fake postings\n",
    "downsampled.fraudulent.value_counts()"
   ]
  },
  {
   "cell_type": "code",
   "execution_count": null,
   "metadata": {},
   "outputs": [],
   "source": []
  },
  {
   "cell_type": "code",
   "execution_count": null,
   "metadata": {},
   "outputs": [],
   "source": []
  },
  {
   "cell_type": "code",
   "execution_count": 23,
   "metadata": {},
   "outputs": [],
   "source": [
    "y_train = downsampled.fraudulent\n",
    "X_train = downsampled.drop('fraudulent', axis=1)"
   ]
  },
  {
   "cell_type": "code",
   "execution_count": 24,
   "metadata": {},
   "outputs": [],
   "source": [
    "# identify the categorical and numerical columns.\n",
    "numeric_features = df3.select_dtypes(include=['int64','float64']).drop(['fraudulent'], axis=1).columns\n",
    "categorical_features = df3.select_dtypes(include=['object']).columns"
   ]
  },
  {
   "cell_type": "code",
   "execution_count": null,
   "metadata": {},
   "outputs": [],
   "source": []
  },
  {
   "cell_type": "code",
   "execution_count": null,
   "metadata": {},
   "outputs": [],
   "source": []
  },
  {
   "cell_type": "code",
   "execution_count": 25,
   "metadata": {},
   "outputs": [],
   "source": [
    "\n",
    "# list of encoders is used. \n",
    "encoder_list = [ce.binary.BinaryEncoder, #binary encoder\n",
    "                ce.ordinal.OrdinalEncoder,# ordinal_encoder\n",
    "                ce.one_hot.OneHotEncoder,# one-hot encoder \n",
    "                ]\n"
   ]
  },
  {
   "cell_type": "code",
   "execution_count": 26,
   "metadata": {},
   "outputs": [],
   "source": [
    "#LabelEncoder to transform the y labels\n",
    "le = preprocessing.LabelEncoder()\n",
    "label_encoder = le.fit(y)\n",
    "y = label_encoder.transform(y)"
   ]
  },
  {
   "cell_type": "code",
   "execution_count": null,
   "metadata": {},
   "outputs": [],
   "source": []
  },
  {
   "cell_type": "code",
   "execution_count": 27,
   "metadata": {},
   "outputs": [
    {
     "name": "stdout",
     "output_type": "stream",
     "text": [
      "                Column              Hypothesis\n",
      "0      employment_type  Reject Null Hypothesis\n",
      "1  required_experience  Reject Null Hypothesis\n",
      "2   required_education  Reject Null Hypothesis\n",
      "3             industry  Reject Null Hypothesis\n",
      "4             function  Reject Null Hypothesis\n",
      "5         country_name  Reject Null Hypothesis\n"
     ]
    }
   ],
   "source": [
    "from scipy.stats import chi2_contingency\n",
    "chi2_check = []\n",
    "for i in categorical_features:\n",
    "    if chi2_contingency(pd.crosstab(downsampled['fraudulent'], downsampled[i]))[1] < 0.05:\n",
    "        chi2_check.append('Reject Null Hypothesis')\n",
    "    else:\n",
    "        chi2_check.append('Fail to Reject Null Hypothesis')\n",
    "res = pd.DataFrame(data = [categorical_features, chi2_check] \n",
    "             ).T \n",
    "res.columns = ['Column', 'Hypothesis']\n",
    "print(res)"
   ]
  },
  {
   "cell_type": "code",
   "execution_count": 28,
   "metadata": {},
   "outputs": [],
   "source": [
    "classifiers = [\n",
    "    KNeighborsClassifier(5),\n",
    "    DecisionTreeClassifier(),\n",
    "    RandomForestClassifier( n_estimators=500),\n",
    "    LogisticRegression(),\n",
    "  ]"
   ]
  },
  {
   "cell_type": "code",
   "execution_count": 34,
   "metadata": {},
   "outputs": [],
   "source": []
  },
  {
   "cell_type": "code",
   "execution_count": 32,
   "metadata": {
    "scrolled": false
   },
   "outputs": [
    {
     "name": "stdout",
     "output_type": "stream",
     "text": [
      "<class 'category_encoders.binary.BinaryEncoder'>\n",
      "KNeighborsClassifier()\n",
      "model score: 0.818\n",
      "F1 score: 0.596401\n",
      "[[2684  594]\n",
      " [  34  133]]\n",
      "ROC AUC: 0.807600\n",
      "Recall: 0.796407\n",
      "Precision: 0.182944\n",
      "*******************************************\n",
      "\n",
      "<class 'category_encoders.binary.BinaryEncoder'>\n",
      "DecisionTreeClassifier()\n",
      "model score: 0.798\n",
      "F1 score: 0.582693\n",
      "[[2613  665]\n",
      " [  30  137]]\n",
      "ROC AUC: 0.808746\n",
      "Recall: 0.820359\n",
      "Precision: 0.170823\n",
      "*******************************************\n",
      "\n",
      "<class 'category_encoders.binary.BinaryEncoder'>\n",
      "RandomForestClassifier(n_estimators=500)\n",
      "model score: 0.840\n",
      "F1 score: 0.630941\n",
      "[[2745  533]\n",
      " [  17  150]]\n",
      "ROC AUC: 0.867802\n",
      "Recall: 0.898204\n",
      "Precision: 0.219619\n",
      "*******************************************\n",
      "\n",
      "<class 'category_encoders.binary.BinaryEncoder'>\n",
      "LogisticRegression()\n",
      "model score: 0.743\n",
      "F1 score: 0.539927\n",
      "[[2426  852]\n",
      " [  32  135]]\n",
      "ROC AUC: 0.774234\n",
      "Recall: 0.808383\n",
      "Precision: 0.136778\n",
      "*******************************************\n",
      "\n",
      "<class 'category_encoders.ordinal.OrdinalEncoder'>\n",
      "KNeighborsClassifier()\n",
      "model score: 0.700\n",
      "F1 score: 0.506679\n",
      "[[2286  992]\n",
      " [  40  127]]\n",
      "ROC AUC: 0.728928\n",
      "Recall: 0.760479\n",
      "Precision: 0.113494\n",
      "*******************************************\n",
      "\n",
      "<class 'category_encoders.ordinal.OrdinalEncoder'>\n",
      "DecisionTreeClassifier()\n",
      "model score: 0.792\n",
      "F1 score: 0.573886\n",
      "[[2596  682]\n",
      " [  35  132]]\n",
      "ROC AUC: 0.791183\n",
      "Recall: 0.790419\n",
      "Precision: 0.162162\n",
      "*******************************************\n",
      "\n",
      "<class 'category_encoders.ordinal.OrdinalEncoder'>\n",
      "RandomForestClassifier(n_estimators=500)\n",
      "model score: 0.825\n",
      "F1 score: 0.610886\n",
      "[[2700  578]\n",
      " [  24  143]]\n",
      "ROC AUC: 0.839980\n",
      "Recall: 0.856287\n",
      "Precision: 0.198336\n",
      "*******************************************\n",
      "\n",
      "<class 'category_encoders.ordinal.OrdinalEncoder'>\n",
      "LogisticRegression()\n",
      "model score: 0.779\n",
      "F1 score: 0.547318\n",
      "[[2572  706]\n",
      " [  57  110]]\n",
      "ROC AUC: 0.721654\n",
      "Recall: 0.658683\n",
      "Precision: 0.134804\n",
      "*******************************************\n",
      "\n",
      "<class 'category_encoders.one_hot.OneHotEncoder'>\n",
      "KNeighborsClassifier()\n",
      "model score: 0.884\n",
      "F1 score: 0.668952\n",
      "[[2909  369]\n",
      " [  32  135]]\n",
      "ROC AUC: 0.847907\n",
      "Recall: 0.808383\n",
      "Precision: 0.267857\n",
      "*******************************************\n",
      "\n",
      "<class 'category_encoders.one_hot.OneHotEncoder'>\n",
      "DecisionTreeClassifier()\n",
      "model score: 0.839\n",
      "F1 score: 0.619186\n",
      "[[2752  526]\n",
      " [  30  137]]\n",
      "ROC AUC: 0.829948\n",
      "Recall: 0.820359\n",
      "Precision: 0.206637\n",
      "*******************************************\n",
      "\n",
      "<class 'category_encoders.one_hot.OneHotEncoder'>\n",
      "RandomForestClassifier(n_estimators=500)\n",
      "model score: 0.865\n",
      "F1 score: 0.657775\n",
      "[[2829  449]\n",
      " [  17  150]]\n",
      "ROC AUC: 0.880615\n",
      "Recall: 0.898204\n",
      "Precision: 0.250417\n",
      "*******************************************\n",
      "\n",
      "<class 'category_encoders.one_hot.OneHotEncoder'>\n",
      "LogisticRegression()\n",
      "model score: 0.785\n",
      "F1 score: 0.578078\n",
      "[[2558  720]\n",
      " [  21  146]]\n",
      "ROC AUC: 0.827303\n",
      "Recall: 0.874251\n",
      "Precision: 0.168591\n",
      "*******************************************\n",
      "\n"
     ]
    }
   ],
   "source": [
    "from sklearn.metrics import recall_score\n",
    "from sklearn.metrics import precision_score\n",
    "for encoder in encoder_list:\n",
    "    # pipeline for numeric data \n",
    "    numeric_transformer = Pipeline(steps=[\n",
    "    ('imputer', SimpleImputer(strategy='median')),\n",
    "    ('scaler', StandardScaler())])\n",
    "    # pipeline for categorical data \n",
    "    categorical_transformer = Pipeline(steps=[\n",
    "    ('imputer', SimpleImputer(strategy='constant')),\n",
    "    ('woe', encoder())])\n",
    "    \n",
    "    preprocessor = ColumnTransformer(\n",
    "    transformers=[\n",
    "        ('num', numeric_transformer, numeric_features),\n",
    "        ('cat', categorical_transformer, categorical_features)])\n",
    "    for classifier in classifiers:\n",
    "        pipe = Pipeline(steps=[('preprocessor', preprocessor),\n",
    "                      ('classifier', classifier)])\n",
    "    \n",
    "        model = pipe.fit(X_train, y_train)\n",
    "   \n",
    "        y_pred = model.predict(X_test)\n",
    "        print(encoder)\n",
    "        print(classifier)\n",
    "        print(\"model score: %.3f\" % pipe.score(X_test, y_test))\n",
    "        print('F1 score: %f' % f1_score(y_test, y_pred, average='macro'))\n",
    "        #print(classification_report(y_test, y_pred))\n",
    "        fpr, tpr, threshold = roc_curve(y_test, y_pred)\n",
    "        roc_auc = auc(fpr, tpr)\n",
    "        print(confusion_matrix(y_test,y_pred))\n",
    "        print('ROC AUC: %f' %roc_auc)\n",
    "        recall = recall_score(y_test, y_pred)\n",
    "        print('Recall: %f' % recall)\n",
    "        precision = precision_score(y_test, y_pred)\n",
    "        print('Precision: %f' % precision)\n",
    "        print(\"*******************************************\\n\")\n",
    "\n",
    "    "
   ]
  },
  {
   "cell_type": "code",
   "execution_count": null,
   "metadata": {},
   "outputs": [],
   "source": []
  },
  {
   "cell_type": "code",
   "execution_count": 33,
   "metadata": {},
   "outputs": [],
   "source": [
    "# oversample majority\n",
    "fake_upsampled = resample(fake,\n",
    "                                replace = True, # sample with replacement\n",
    "                                n_samples = len(real), # same as fake posts\n",
    "                                random_state = 222) # reproducible results"
   ]
  },
  {
   "cell_type": "code",
   "execution_count": 34,
   "metadata": {},
   "outputs": [
    {
     "data": {
      "text/plain": [
       "1    13113\n",
       "0    13113\n",
       "Name: fraudulent, dtype: int64"
      ]
     },
     "execution_count": 34,
     "metadata": {},
     "output_type": "execute_result"
    }
   ],
   "source": [
    "# combine Majority and upsampled minority\n",
    "upsampled = pd.concat([fake_upsampled, real])\n",
    "# number of real and fake postings\n",
    "upsampled.fraudulent.value_counts()"
   ]
  },
  {
   "cell_type": "code",
   "execution_count": null,
   "metadata": {},
   "outputs": [],
   "source": []
  },
  {
   "cell_type": "code",
   "execution_count": 35,
   "metadata": {},
   "outputs": [],
   "source": [
    "y_train2 = upsampled.fraudulent\n",
    "X_train2 = upsampled.drop('fraudulent', axis=1)"
   ]
  },
  {
   "cell_type": "code",
   "execution_count": 32,
   "metadata": {},
   "outputs": [],
   "source": []
  },
  {
   "cell_type": "code",
   "execution_count": 36,
   "metadata": {
    "scrolled": false
   },
   "outputs": [
    {
     "name": "stdout",
     "output_type": "stream",
     "text": [
      "<class 'category_encoders.binary.BinaryEncoder'>\n",
      "KNeighborsClassifier()\n",
      "model score: 0.869\n",
      "F1 score: 0.660971\n",
      "              precision    recall  f1-score   support\n",
      "\n",
      "           0       0.99      0.87      0.93      3278\n",
      "           1       0.25      0.88      0.40       167\n",
      "\n",
      "    accuracy                           0.87      3445\n",
      "   macro avg       0.62      0.87      0.66      3445\n",
      "weighted avg       0.96      0.87      0.90      3445\n",
      "\n",
      "[[2848  430]\n",
      " [  20  147]]\n",
      "ROC AUC: 0.874531\n",
      "Recall: 0.880240\n",
      "Precision: 0.254766\n",
      "*********************************************\n",
      "\n",
      "<class 'category_encoders.binary.BinaryEncoder'>\n",
      "DecisionTreeClassifier()\n",
      "model score: 0.949\n",
      "F1 score: 0.774869\n",
      "              precision    recall  f1-score   support\n",
      "\n",
      "           0       0.99      0.96      0.97      3278\n",
      "           1       0.48      0.72      0.58       167\n",
      "\n",
      "    accuracy                           0.95      3445\n",
      "   macro avg       0.73      0.84      0.77      3445\n",
      "weighted avg       0.96      0.95      0.95      3445\n",
      "\n",
      "[[3149  129]\n",
      " [  47  120]]\n",
      "ROC AUC: 0.839605\n",
      "Recall: 0.718563\n",
      "Precision: 0.481928\n",
      "*********************************************\n",
      "\n",
      "<class 'category_encoders.binary.BinaryEncoder'>\n",
      "RandomForestClassifier(n_estimators=500)\n",
      "model score: 0.963\n",
      "F1 score: 0.811387\n",
      "              precision    recall  f1-score   support\n",
      "\n",
      "           0       0.98      0.98      0.98      3278\n",
      "           1       0.61      0.68      0.64       167\n",
      "\n",
      "    accuracy                           0.96      3445\n",
      "   macro avg       0.80      0.83      0.81      3445\n",
      "weighted avg       0.97      0.96      0.96      3445\n",
      "\n",
      "[[3206   72]\n",
      " [  54  113]]\n",
      "ROC AUC: 0.827341\n",
      "Recall: 0.676647\n",
      "Precision: 0.610811\n",
      "*********************************************\n",
      "\n"
     ]
    },
    {
     "name": "stderr",
     "output_type": "stream",
     "text": [
      "C:\\Users\\soley\\Anaconda3\\lib\\site-packages\\sklearn\\linear_model\\_logistic.py:764: ConvergenceWarning: lbfgs failed to converge (status=1):\n",
      "STOP: TOTAL NO. of ITERATIONS REACHED LIMIT.\n",
      "\n",
      "Increase the number of iterations (max_iter) or scale the data as shown in:\n",
      "    https://scikit-learn.org/stable/modules/preprocessing.html\n",
      "Please also refer to the documentation for alternative solver options:\n",
      "    https://scikit-learn.org/stable/modules/linear_model.html#logistic-regression\n",
      "  extra_warning_msg=_LOGISTIC_SOLVER_CONVERGENCE_MSG)\n"
     ]
    },
    {
     "name": "stdout",
     "output_type": "stream",
     "text": [
      "<class 'category_encoders.binary.BinaryEncoder'>\n",
      "LogisticRegression()\n",
      "model score: 0.793\n",
      "F1 score: 0.573357\n",
      "              precision    recall  f1-score   support\n",
      "\n",
      "           0       0.99      0.79      0.88      3278\n",
      "           1       0.16      0.78      0.27       167\n",
      "\n",
      "    accuracy                           0.79      3445\n",
      "   macro avg       0.57      0.79      0.57      3445\n",
      "weighted avg       0.95      0.79      0.85      3445\n",
      "\n",
      "[[2602  676]\n",
      " [  37  130]]\n",
      "ROC AUC: 0.786110\n",
      "Recall: 0.778443\n",
      "Precision: 0.161290\n",
      "*********************************************\n",
      "\n",
      "<class 'category_encoders.ordinal.OrdinalEncoder'>\n",
      "KNeighborsClassifier()\n",
      "model score: 0.931\n",
      "F1 score: 0.734126\n",
      "              precision    recall  f1-score   support\n",
      "\n",
      "           0       0.99      0.94      0.96      3278\n",
      "           1       0.39      0.72      0.51       167\n",
      "\n",
      "    accuracy                           0.93      3445\n",
      "   macro avg       0.69      0.83      0.73      3445\n",
      "weighted avg       0.96      0.93      0.94      3445\n",
      "\n",
      "[[3087  191]\n",
      " [  46  121]]\n",
      "ROC AUC: 0.833142\n",
      "Recall: 0.724551\n",
      "Precision: 0.387821\n",
      "*********************************************\n",
      "\n",
      "<class 'category_encoders.ordinal.OrdinalEncoder'>\n",
      "DecisionTreeClassifier()\n",
      "model score: 0.948\n",
      "F1 score: 0.755385\n",
      "              precision    recall  f1-score   support\n",
      "\n",
      "           0       0.98      0.96      0.97      3278\n",
      "           1       0.47      0.63      0.54       167\n",
      "\n",
      "    accuracy                           0.95      3445\n",
      "   macro avg       0.73      0.80      0.76      3445\n",
      "weighted avg       0.96      0.95      0.95      3445\n",
      "\n",
      "[[3160  118]\n",
      " [  62  105]]\n",
      "ROC AUC: 0.796372\n",
      "Recall: 0.628743\n",
      "Precision: 0.470852\n",
      "*********************************************\n",
      "\n",
      "<class 'category_encoders.ordinal.OrdinalEncoder'>\n",
      "RandomForestClassifier(n_estimators=500)\n",
      "model score: 0.960\n",
      "F1 score: 0.802850\n",
      "              precision    recall  f1-score   support\n",
      "\n",
      "           0       0.98      0.97      0.98      3278\n",
      "           1       0.57      0.69      0.63       167\n",
      "\n",
      "    accuracy                           0.96      3445\n",
      "   macro avg       0.78      0.83      0.80      3445\n",
      "weighted avg       0.96      0.96      0.96      3445\n",
      "\n",
      "[[3193   85]\n",
      " [  52  115]]\n",
      "ROC AUC: 0.831346\n",
      "Recall: 0.688623\n",
      "Precision: 0.575000\n",
      "*********************************************\n",
      "\n",
      "<class 'category_encoders.ordinal.OrdinalEncoder'>\n",
      "LogisticRegression()\n",
      "model score: 0.797\n",
      "F1 score: 0.560576\n",
      "              precision    recall  f1-score   support\n",
      "\n",
      "           0       0.98      0.80      0.88      3278\n",
      "           1       0.15      0.65      0.24       167\n",
      "\n",
      "    accuracy                           0.80      3445\n",
      "   macro avg       0.56      0.73      0.56      3445\n",
      "weighted avg       0.94      0.80      0.85      3445\n",
      "\n",
      "[[2638  640]\n",
      " [  58  109]]\n",
      "ROC AUC: 0.728727\n",
      "Recall: 0.652695\n",
      "Precision: 0.145527\n",
      "*********************************************\n",
      "\n",
      "<class 'category_encoders.one_hot.OneHotEncoder'>\n",
      "KNeighborsClassifier()\n",
      "model score: 0.808\n",
      "F1 score: 0.604732\n",
      "              precision    recall  f1-score   support\n",
      "\n",
      "           0       1.00      0.80      0.89      3278\n",
      "           1       0.19      0.93      0.32       167\n",
      "\n",
      "    accuracy                           0.81      3445\n",
      "   macro avg       0.59      0.87      0.60      3445\n",
      "weighted avg       0.96      0.81      0.86      3445\n",
      "\n",
      "[[2629  649]\n",
      " [  11  156]]\n",
      "ROC AUC: 0.868073\n",
      "Recall: 0.934132\n",
      "Precision: 0.193789\n",
      "*********************************************\n",
      "\n",
      "<class 'category_encoders.one_hot.OneHotEncoder'>\n",
      "DecisionTreeClassifier()\n",
      "model score: 0.950\n",
      "F1 score: 0.780970\n",
      "              precision    recall  f1-score   support\n",
      "\n",
      "           0       0.99      0.96      0.97      3278\n",
      "           1       0.49      0.74      0.59       167\n",
      "\n",
      "    accuracy                           0.95      3445\n",
      "   macro avg       0.74      0.85      0.78      3445\n",
      "weighted avg       0.96      0.95      0.95      3445\n",
      "\n",
      "[[3150  128]\n",
      " [  44  123]]\n",
      "ROC AUC: 0.848739\n",
      "Recall: 0.736527\n",
      "Precision: 0.490040\n",
      "*********************************************\n",
      "\n",
      "<class 'category_encoders.one_hot.OneHotEncoder'>\n",
      "RandomForestClassifier(n_estimators=500)\n",
      "model score: 0.965\n",
      "F1 score: 0.821385\n",
      "              precision    recall  f1-score   support\n",
      "\n",
      "           0       0.98      0.98      0.98      3278\n",
      "           1       0.63      0.69      0.66       167\n",
      "\n",
      "    accuracy                           0.97      3445\n",
      "   macro avg       0.81      0.84      0.82      3445\n",
      "weighted avg       0.97      0.97      0.97      3445\n",
      "\n",
      "[[3210   68]\n",
      " [  51  116]]\n",
      "ROC AUC: 0.836933\n",
      "Recall: 0.694611\n",
      "Precision: 0.630435\n",
      "*********************************************\n",
      "\n"
     ]
    },
    {
     "name": "stderr",
     "output_type": "stream",
     "text": [
      "C:\\Users\\soley\\Anaconda3\\lib\\site-packages\\sklearn\\linear_model\\_logistic.py:764: ConvergenceWarning: lbfgs failed to converge (status=1):\n",
      "STOP: TOTAL NO. of ITERATIONS REACHED LIMIT.\n",
      "\n",
      "Increase the number of iterations (max_iter) or scale the data as shown in:\n",
      "    https://scikit-learn.org/stable/modules/preprocessing.html\n",
      "Please also refer to the documentation for alternative solver options:\n",
      "    https://scikit-learn.org/stable/modules/linear_model.html#logistic-regression\n",
      "  extra_warning_msg=_LOGISTIC_SOLVER_CONVERGENCE_MSG)\n"
     ]
    },
    {
     "name": "stdout",
     "output_type": "stream",
     "text": [
      "<class 'category_encoders.one_hot.OneHotEncoder'>\n",
      "LogisticRegression()\n",
      "model score: 0.830\n",
      "F1 score: 0.613024\n",
      "              precision    recall  f1-score   support\n",
      "\n",
      "           0       0.99      0.83      0.90      3278\n",
      "           1       0.20      0.84      0.32       167\n",
      "\n",
      "    accuracy                           0.83      3445\n",
      "   macro avg       0.60      0.83      0.61      3445\n",
      "weighted avg       0.95      0.83      0.87      3445\n",
      "\n",
      "[[2719  559]\n",
      " [  27  140]]\n",
      "ROC AUC: 0.833896\n",
      "Recall: 0.838323\n",
      "Precision: 0.200286\n",
      "*********************************************\n",
      "\n"
     ]
    }
   ],
   "source": [
    "for encoder in encoder_list:\n",
    "    # pipeline for numeric data \n",
    "    numeric_transformer = Pipeline(steps=[\n",
    "    ('imputer', SimpleImputer(strategy='median')),\n",
    "    ('scaler', StandardScaler())])\n",
    "    # pipeline for categorical data \n",
    "    categorical_transformer = Pipeline(steps=[\n",
    "    ('imputer', SimpleImputer(strategy='constant')),\n",
    "    ('woe', encoder())])\n",
    "    \n",
    "    preprocessor = ColumnTransformer(\n",
    "    transformers=[\n",
    "        ('num', numeric_transformer, numeric_features),\n",
    "        ('cat', categorical_transformer, categorical_features)])\n",
    "    for classifier in classifiers:\n",
    "        pipe = Pipeline(steps=[('preprocessor', preprocessor),\n",
    "                      ('classifier', classifier)])\n",
    "    \n",
    "        model = pipe.fit(X_train2, y_train2)\n",
    "   \n",
    "        y_pred2 = model.predict(X_test)\n",
    "        print(encoder)\n",
    "        print(classifier)\n",
    "        print(\"model score: %.3f\" % pipe.score(X_test, y_test))\n",
    "        \n",
    "        print('F1 score: %f' % f1_score(y_test, y_pred2, average='macro'))\n",
    "        print(classification_report(y_test, y_pred2))\n",
    "        fpr, tpr, threshold = roc_curve(y_test, y_pred2)\n",
    "        roc_auc = auc(fpr, tpr)\n",
    "        #print(classification_report(y_test, y_pred2))\n",
    "        fpr, tpr, threshold = roc_curve(y_test, y_pred2)\n",
    "        roc_auc = auc(fpr, tpr)\n",
    "        print(confusion_matrix(y_test,y_pred2))\n",
    "        print('ROC AUC: %f' %roc_auc)\n",
    "        recall = recall_score(y_test, y_pred2)\n",
    "        print('Recall: %f' % recall)\n",
    "        precision = precision_score(y_test, y_pred2)\n",
    "        print('Precision: %f' % precision)\n",
    "        print(\"*********************************************\\n\")\n",
    "        "
   ]
  },
  {
   "cell_type": "code",
   "execution_count": null,
   "metadata": {},
   "outputs": [],
   "source": []
  }
 ],
 "metadata": {
  "kernelspec": {
   "display_name": "Python 3",
   "language": "python",
   "name": "python3"
  },
  "language_info": {
   "codemirror_mode": {
    "name": "ipython",
    "version": 3
   },
   "file_extension": ".py",
   "mimetype": "text/x-python",
   "name": "python",
   "nbconvert_exporter": "python",
   "pygments_lexer": "ipython3",
   "version": "3.7.4"
  }
 },
 "nbformat": 4,
 "nbformat_minor": 4
}
